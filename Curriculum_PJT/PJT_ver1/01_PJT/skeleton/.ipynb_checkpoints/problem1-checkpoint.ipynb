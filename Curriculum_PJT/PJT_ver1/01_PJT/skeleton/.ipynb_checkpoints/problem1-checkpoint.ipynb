{
 "cells": [
  {
   "cell_type": "code",
   "execution_count": 1,
   "id": "48c3af78",
   "metadata": {},
   "outputs": [],
   "source": [
    "# 필요 패키지 import\n",
    "import pprint\n",
    "import requests"
   ]
  },
  {
   "cell_type": "markdown",
   "id": "d5723667",
   "metadata": {},
   "source": [
    "# 문제1. 전체 정기예금의 응답을 json 형태로 변환하여 key 값만 출력하시오.\n",
    "- 공식문서의 요청변수와 예제 요청결과(JSON) 부분을 참고합니다.\n",
    "- [힌트] 아래와 같은 순서로 데이터를 출력하며 진행합니다.\n",
    "- 1. 응답을 json 형식으로 변환합니다.\n",
    "- 2. key 값이 \"result\" 인 데이터에 모든 정보가 담겨 있습니다.\n",
    "- 3. key 값이 \"result\" 인 데이터의 key 값만 출력합니다."
   ]
  },
  {
   "cell_type": "code",
   "execution_count": 64,
   "id": "dcdb1972",
   "metadata": {
    "scrolled": true
   },
   "outputs": [
    {
     "name": "stdout",
     "output_type": "stream",
     "text": [
      "dict_keys(['prdt_div', 'total_count', 'max_page_no', 'now_page_no', 'err_cd', 'err_msg', 'baseList', 'optionList'])\n"
     ]
    }
   ],
   "source": [
    "import requests\n",
    "from pprint import pprint\n",
    "\n",
    "def get_deposit_products():\n",
    "    # API KEY\n",
    "    api_key = \"a438e87af1b7346978755b03b975ea1b\"\n",
    "\n",
    "    # 필수 요청 정보\n",
    "    sevice_name = 'depositProductsSearch'\n",
    "    res_type = 'json'\n",
    "    topFinGrpNo = '020000'\n",
    "    pageNo = 1\n",
    "    \n",
    "    # URL\n",
    "    result = f'http://finlife.fss.or.kr/finlifeapi/{sevice_name}.{res_type}?auth={api_key}&topFinGrpNo={topFinGrpNo}&pageNo={pageNo}'\n",
    "    \n",
    "    return result\n",
    "\n",
    "# response의 Key값 출력\n",
    "url = get_deposit_products()\n",
    "\n",
    "response = requests.get(url).json()\n",
    "\n",
    "pprint(response['result'].keys())"
   ]
  },
  {
   "cell_type": "code",
   "execution_count": 4,
   "id": "9a3c23f1",
   "metadata": {},
   "outputs": [],
   "source": [
    "# # 아래 코드는 수정하지 않습니다.\n",
    "# if __name__ == '__main__':\n",
    "#     # json 형태의 데이터 반환\n",
    "#     result = get_deposit_products()\n",
    "#     # prrint.prrint(): json 을 보기 좋은 형식으로 출력\n",
    "#     pprint.pprint(result)"
   ]
  },
  {
   "cell_type": "code",
   "execution_count": null,
   "id": "4793a7d8",
   "metadata": {},
   "outputs": [],
   "source": []
  }
 ],
 "metadata": {
  "kernelspec": {
   "display_name": "Python 3 (ipykernel)",
   "language": "python",
   "name": "python3"
  },
  "language_info": {
   "codemirror_mode": {
    "name": "ipython",
    "version": 3
   },
   "file_extension": ".py",
   "mimetype": "text/x-python",
   "name": "python",
   "nbconvert_exporter": "python",
   "pygments_lexer": "ipython3",
   "version": "3.9.13"
  }
 },
 "nbformat": 4,
 "nbformat_minor": 5
}
